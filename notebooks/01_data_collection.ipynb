{
 "cells": [
  {
   "cell_type": "code",
   "execution_count": 1,
   "id": "197bb9b5",
   "metadata": {},
   "outputs": [],
   "source": [
    "# Cell 1: imports and setup\n",
    "import os\n",
    "from typing import Optional\n",
    "import pandas as pd\n",
    "import yfinance as yf\n",
    "import matplotlib.pyplot as plt\n",
    "\n",
    "# display and plotting setup\n",
    "pd.set_option(\"display.max_columns\", 50)\n",
    "pd.set_option(\"display.width\", 160)\n",
    "plt.rcParams[\"figure.figsize\"] = (10, 5)\n",
    "\n",
    "# default paths (adjust if needed)\n",
    "COMPANIES_PATH = r\"../data/raw/acoes-listadas-b3.csv\"\n",
    "OUTPUT_DIR = r\"../data/processed\""
   ]
  },
  {
   "cell_type": "code",
   "execution_count": 2,
   "id": "5860b32f",
   "metadata": {},
   "outputs": [],
   "source": [
    "# Cell 2: load B3-listed companies (CSV validation included)\n",
    "def load_listed_companies(path: str = COMPANIES_PATH) -> Optional[pd.DataFrame]:\n",
    "    try:\n",
    "        df = pd.read_csv(path)\n",
    "    except FileNotFoundError:\n",
    "        print(f\"❌ File not found: {path}\")\n",
    "        return None\n",
    "    except Exception as e:\n",
    "        print(f\"❌ Error while reading CSV: {e}\")\n",
    "        return None\n",
    "\n",
    "    # expected column: 'Ticker'\n",
    "    if \"Ticker\" not in df.columns:\n",
    "        possible = [c for c in df.columns if \"tick\" in c.lower() or \"code\" in c.lower()]\n",
    "        if possible:\n",
    "            print(\"⚠️ Missing 'Ticker' column — maybe you meant:\", possible)\n",
    "        else:\n",
    "            print(\"⚠️ 'Ticker' column not found in CSV.\")\n",
    "        return None\n",
    "\n",
    "    print(f\"✅ Loaded {len(df)} tickers.\")\n",
    "    return df"
   ]
  },
  {
   "cell_type": "code",
   "execution_count": 3,
   "id": "7fc3dcf9",
   "metadata": {},
   "outputs": [
    {
     "name": "stdout",
     "output_type": "stream",
     "text": [
      "✅ Loaded 406 tickers.\n"
     ]
    },
    {
     "data": {
      "application/vnd.microsoft.datawrangler.viewer.v0+json": {
       "columns": [
        {
         "name": "index",
         "rawType": "int64",
         "type": "integer"
        },
        {
         "name": "Ticker",
         "rawType": "object",
         "type": "string"
        },
        {
         "name": "Nome",
         "rawType": "object",
         "type": "string"
        },
        {
         "name": "Negócios",
         "rawType": "object",
         "type": "string"
        },
        {
         "name": "Última (R$)",
         "rawType": "object",
         "type": "string"
        },
        {
         "name": "Variação",
         "rawType": "object",
         "type": "string"
        }
       ],
       "ref": "51191d1c-087a-4276-848e-8c20a9c9e6b3",
       "rows": [
        [
         "0",
         "PDGR3",
         "PDG Realty",
         "34.615.600",
         "0,07",
         "-46,15%"
        ],
        [
         "1",
         "MGLU3",
         "Magazine Luiza",
         "32.721.500",
         "9,15",
         "-0,11%"
        ],
        [
         "2",
         "AMBP3",
         "Ambipar",
         "27.231.800",
         "1,40",
         "-49,09%"
        ],
        [
         "3",
         "ASAI3",
         "Assaí",
         "24.871.500",
         "9,06",
         "-2,16%"
        ],
        [
         "4",
         "ITSA4",
         "Itaúsa",
         "22.795.700",
         "11,22",
         "+0,54%"
        ],
        [
         "5",
         "BBDC4",
         "Banco Bradesco",
         "22.193.300",
         "17,10",
         "+0,06%"
        ],
        [
         "6",
         "ABEV3",
         "Ambev",
         "21.785.000",
         "11,87",
         "-0,50%"
        ],
        [
         "7",
         "COGN3",
         "Cogna",
         "21.087.500",
         "3,21",
         "+1,58%"
        ],
        [
         "8",
         "PETR4",
         "Petrobras",
         "19.756.800",
         "31,00",
         "-0,26%"
        ],
        [
         "9",
         "VALE3",
         "Vale",
         "19.240.200",
         "58,59",
         "-0,19%"
        ]
       ],
       "shape": {
        "columns": 5,
        "rows": 10
       }
      },
      "text/html": [
       "<div>\n",
       "<style scoped>\n",
       "    .dataframe tbody tr th:only-of-type {\n",
       "        vertical-align: middle;\n",
       "    }\n",
       "\n",
       "    .dataframe tbody tr th {\n",
       "        vertical-align: top;\n",
       "    }\n",
       "\n",
       "    .dataframe thead th {\n",
       "        text-align: right;\n",
       "    }\n",
       "</style>\n",
       "<table border=\"1\" class=\"dataframe\">\n",
       "  <thead>\n",
       "    <tr style=\"text-align: right;\">\n",
       "      <th></th>\n",
       "      <th>Ticker</th>\n",
       "      <th>Nome</th>\n",
       "      <th>Negócios</th>\n",
       "      <th>Última (R$)</th>\n",
       "      <th>Variação</th>\n",
       "    </tr>\n",
       "  </thead>\n",
       "  <tbody>\n",
       "    <tr>\n",
       "      <th>0</th>\n",
       "      <td>PDGR3</td>\n",
       "      <td>PDG Realty</td>\n",
       "      <td>34.615.600</td>\n",
       "      <td>0,07</td>\n",
       "      <td>-46,15%</td>\n",
       "    </tr>\n",
       "    <tr>\n",
       "      <th>1</th>\n",
       "      <td>MGLU3</td>\n",
       "      <td>Magazine Luiza</td>\n",
       "      <td>32.721.500</td>\n",
       "      <td>9,15</td>\n",
       "      <td>-0,11%</td>\n",
       "    </tr>\n",
       "    <tr>\n",
       "      <th>2</th>\n",
       "      <td>AMBP3</td>\n",
       "      <td>Ambipar</td>\n",
       "      <td>27.231.800</td>\n",
       "      <td>1,40</td>\n",
       "      <td>-49,09%</td>\n",
       "    </tr>\n",
       "    <tr>\n",
       "      <th>3</th>\n",
       "      <td>ASAI3</td>\n",
       "      <td>Assaí</td>\n",
       "      <td>24.871.500</td>\n",
       "      <td>9,06</td>\n",
       "      <td>-2,16%</td>\n",
       "    </tr>\n",
       "    <tr>\n",
       "      <th>4</th>\n",
       "      <td>ITSA4</td>\n",
       "      <td>Itaúsa</td>\n",
       "      <td>22.795.700</td>\n",
       "      <td>11,22</td>\n",
       "      <td>+0,54%</td>\n",
       "    </tr>\n",
       "    <tr>\n",
       "      <th>5</th>\n",
       "      <td>BBDC4</td>\n",
       "      <td>Banco Bradesco</td>\n",
       "      <td>22.193.300</td>\n",
       "      <td>17,10</td>\n",
       "      <td>+0,06%</td>\n",
       "    </tr>\n",
       "    <tr>\n",
       "      <th>6</th>\n",
       "      <td>ABEV3</td>\n",
       "      <td>Ambev</td>\n",
       "      <td>21.785.000</td>\n",
       "      <td>11,87</td>\n",
       "      <td>-0,50%</td>\n",
       "    </tr>\n",
       "    <tr>\n",
       "      <th>7</th>\n",
       "      <td>COGN3</td>\n",
       "      <td>Cogna</td>\n",
       "      <td>21.087.500</td>\n",
       "      <td>3,21</td>\n",
       "      <td>+1,58%</td>\n",
       "    </tr>\n",
       "    <tr>\n",
       "      <th>8</th>\n",
       "      <td>PETR4</td>\n",
       "      <td>Petrobras</td>\n",
       "      <td>19.756.800</td>\n",
       "      <td>31,00</td>\n",
       "      <td>-0,26%</td>\n",
       "    </tr>\n",
       "    <tr>\n",
       "      <th>9</th>\n",
       "      <td>VALE3</td>\n",
       "      <td>Vale</td>\n",
       "      <td>19.240.200</td>\n",
       "      <td>58,59</td>\n",
       "      <td>-0,19%</td>\n",
       "    </tr>\n",
       "  </tbody>\n",
       "</table>\n",
       "</div>"
      ],
      "text/plain": [
       "  Ticker            Nome    Negócios Última (R$) Variação\n",
       "0  PDGR3      PDG Realty  34.615.600        0,07  -46,15%\n",
       "1  MGLU3  Magazine Luiza  32.721.500        9,15   -0,11%\n",
       "2  AMBP3         Ambipar  27.231.800        1,40  -49,09%\n",
       "3  ASAI3           Assaí  24.871.500        9,06   -2,16%\n",
       "4  ITSA4          Itaúsa  22.795.700       11,22   +0,54%\n",
       "5  BBDC4  Banco Bradesco  22.193.300       17,10   +0,06%\n",
       "6  ABEV3           Ambev  21.785.000       11,87   -0,50%\n",
       "7  COGN3           Cogna  21.087.500        3,21   +1,58%\n",
       "8  PETR4       Petrobras  19.756.800       31,00   -0,26%\n",
       "9  VALE3            Vale  19.240.200       58,59   -0,19%"
      ]
     },
     "metadata": {},
     "output_type": "display_data"
    },
    {
     "name": "stdout",
     "output_type": "stream",
     "text": [
      "\n",
      "Columns: ['Ticker', 'Nome', 'Negócios', 'Última (R$)', 'Variação']\n"
     ]
    }
   ],
   "source": [
    "# Cell 3: load and preview the first few rows\n",
    "df_listed = load_listed_companies()\n",
    "if df_listed is not None:\n",
    "    display(df_listed.head(10))\n",
    "    print(\"\\nColumns:\", df_listed.columns.tolist())"
   ]
  },
  {
   "cell_type": "code",
   "execution_count": 4,
   "id": "79bc0ed1",
   "metadata": {},
   "outputs": [
    {
     "name": "stdout",
     "output_type": "stream",
     "text": [
      "Example tickers (first 20):\n",
      "PDGR3, MGLU3, AMBP3, ASAI3, ITSA4, BBDC4, ABEV3, COGN3, PETR4, VALE3, ITUB4, RAIZ4, BBAS3, CSAN3, MOTV3, B3SA3, MBRF3, RENT3, GGBR4, PCAR3\n"
     ]
    }
   ],
   "source": [
    "# Cell 4: select a ticker (user input or auto-pick)\n",
    "def choose_ticker(df: pd.DataFrame, interactive: bool = True) -> Optional[str]:\n",
    "    tickers = df[\"Ticker\"].astype(str).str.upper().unique()\n",
    "\n",
    "    # auto mode: pick the first one\n",
    "    if not interactive:\n",
    "        print(f\"Non-interactive mode: using {tickers[0]}\")\n",
    "        return tickers[0] + \".SA\"\n",
    "\n",
    "    # interactive mode\n",
    "    print(\"Example tickers (first 20):\")\n",
    "    print(\", \".join(tickers[:20]))\n",
    "    ticker = input(\"Enter ticker (no .SA) or index (e.g. 0): \").strip().upper()\n",
    "\n",
    "    if ticker.isdigit():\n",
    "        idx = int(ticker)\n",
    "        if 0 <= idx < len(tickers):\n",
    "            return tickers[idx] + \".SA\"\n",
    "        else:\n",
    "            print(\"Index out of range.\")\n",
    "            return None\n",
    "\n",
    "    if ticker in tickers:\n",
    "        return ticker + \".SA\"\n",
    "\n",
    "    print(\"Ticker not found.\")\n",
    "    return None\n",
    "\n",
    "# usage:\n",
    "ticker = choose_ticker(df_listed, interactive=True)\n"
   ]
  },
  {
   "cell_type": "code",
   "execution_count": 5,
   "id": "9cee18ac",
   "metadata": {},
   "outputs": [
    {
     "name": "stdout",
     "output_type": "stream",
     "text": [
      "⬇️ Baixando PETR4.SA ...\n"
     ]
    },
    {
     "name": "stderr",
     "output_type": "stream",
     "text": [
      "[*********************100%***********************]  1 of 1 completed"
     ]
    },
    {
     "name": "stdout",
     "output_type": "stream",
     "text": [
      "✅ 6476 registros de 2000-01-03 a 2025-10-15\n"
     ]
    },
    {
     "name": "stderr",
     "output_type": "stream",
     "text": [
      "\n"
     ]
    }
   ],
   "source": [
    "# Cell 5: baixar histórico completo para 1 ticker\n",
    "def download_full_history(ticker: str, timeout: int = 20) -> Optional[pd.DataFrame]:\n",
    "    try:\n",
    "        print(f\"⬇️ Baixando {ticker} ...\")\n",
    "        data = yf.download(\n",
    "            tickers=ticker,\n",
    "            period=\"max\",\n",
    "            interval=\"1d\",\n",
    "            auto_adjust=True,\n",
    "            progress=True,\n",
    "            threads=True,\n",
    "            group_by=\"column\",\n",
    "            timeout=timeout\n",
    "        )\n",
    "        if data.empty:\n",
    "            print(\"⚠️ Nenhum dado retornado.\")\n",
    "            return None\n",
    "        # se houver multiindex de colunas (quando várias ações), normaliza:\n",
    "        if isinstance(data.columns, pd.MultiIndex):\n",
    "            data.columns = data.columns.droplevel(0)\n",
    "        data.index = pd.to_datetime(data.index)\n",
    "        print(f\"✅ {len(data)} registros de {data.index.min().date()} a {data.index.max().date()}\")\n",
    "        return data\n",
    "    except Exception as e:\n",
    "        print(f\"❌ Erro no download: {type(e).__name__} - {e}\")\n",
    "        return None\n",
    "\n",
    "# exemplo de uso:\n",
    "df_hist = download_full_history(ticker)\n",
    "df_hist.columns = [\"Open\", \"High\", \"Low\", \"Close\", \"Volume\"]\n"
   ]
  },
  {
   "cell_type": "code",
   "execution_count": 6,
   "id": "4e38d1b5",
   "metadata": {},
   "outputs": [],
   "source": [
    "df_hist.reset_index(inplace=True)\n",
    "df_hist.drop(columns=['Date'], inplace=True)\n"
   ]
  },
  {
   "cell_type": "code",
   "execution_count": 7,
   "id": "7ba118a6",
   "metadata": {},
   "outputs": [
    {
     "name": "stdout",
     "output_type": "stream",
     "text": [
      "Outlier removal completed:\n",
      "  Columns checked: 5\n",
      "  Rows before: 6476\n",
      "  Rows after:  5404\n",
      "  Removed:     1072 (16.55%)\n"
     ]
    }
   ],
   "source": [
    "import pandas as pd\n",
    "import numpy as np\n",
    "\n",
    "def mark_and_remove_outliers(df, multiplier=1.5, verbose=True):\n",
    "    \"\"\"\n",
    "    Para cada coluna numérica:\n",
    "      - Cria coluna <nome_coluna>_outlier: 1 se for outlier, 0 caso contrário\n",
    "      - Remove todas as linhas que forem outliers em qualquer coluna\n",
    "      - Remove as colunas de outlier antes de retornar\n",
    "    \"\"\"\n",
    "    df_clean = df.copy()\n",
    "    \n",
    "    # Flatten MultiIndex se houver\n",
    "    if isinstance(df_clean.columns, pd.MultiIndex):\n",
    "        df_clean.columns = ['_'.join(map(str, col)).strip() for col in df_clean.columns.values]\n",
    "\n",
    "    num_cols = df_clean.select_dtypes(include=[np.number]).columns\n",
    "    if len(num_cols) == 0:\n",
    "        if verbose:\n",
    "            print(\"⚠️ Nenhuma coluna numérica encontrada\")\n",
    "        return df_clean\n",
    "\n",
    "    outlier_cols = []\n",
    "    for col in num_cols:\n",
    "        col_data = df_clean[col]\n",
    "        Q1 = col_data.quantile(0.25)\n",
    "        Q3 = col_data.quantile(0.75)\n",
    "        IQR = Q3 - Q1\n",
    "        lower = Q1 - multiplier * IQR\n",
    "        upper = Q3 + multiplier * IQR\n",
    "\n",
    "        # cria coluna de outlier\n",
    "        outlier_col = f\"{col}_outlier\"\n",
    "        df_clean[outlier_col] = ((col_data < lower) | (col_data > upper)).astype(int)\n",
    "        outlier_cols.append(outlier_col)\n",
    "\n",
    "    # remove todas as linhas que tiverem 1 em qualquer coluna de outlier\n",
    "    before = len(df_clean)\n",
    "    mask = df_clean[outlier_cols].sum(axis=1) == 0\n",
    "    df_clean = df_clean[mask]\n",
    "    after = len(df_clean)\n",
    "\n",
    "    # drop colunas de outlier\n",
    "    df_clean.drop(columns=outlier_cols, inplace=True)\n",
    "\n",
    "    if verbose:\n",
    "        removed = before - after\n",
    "        print(f\"Outlier removal completed:\")\n",
    "        print(f\"  Columns checked: {len(num_cols)}\")\n",
    "        print(f\"  Rows before: {before}\")\n",
    "        print(f\"  Rows after:  {after}\")\n",
    "        print(f\"  Removed:     {removed} ({removed/before*100:.2f}%)\")\n",
    "\n",
    "    return df_clean\n",
    "\n",
    "df_hist = mark_and_remove_outliers(df_hist)\n"
   ]
  },
  {
   "cell_type": "code",
   "execution_count": 8,
   "id": "428ae266",
   "metadata": {},
   "outputs": [
    {
     "name": "stdout",
     "output_type": "stream",
     "text": [
      "💾 Data successfully saved at: ../data/processed\\df.csv\n"
     ]
    },
    {
     "data": {
      "text/plain": [
       "'../data/processed\\\\df.csv'"
      ]
     },
     "execution_count": 8,
     "metadata": {},
     "output_type": "execute_result"
    }
   ],
   "source": [
    "# Cell 7: export to CSV with fixed name \"df.csv\"\n",
    "def export_data(data: pd.DataFrame, output_dir: str = OUTPUT_DIR):\n",
    "    \"\"\"\n",
    "    Export the DataFrame to a CSV file with a fixed name 'df.csv'.\n",
    "    Overwrites existing files without asking (because, why not?).\n",
    "\n",
    "    Parameters\n",
    "    ----------\n",
    "    data : pd.DataFrame\n",
    "        The data to export.\n",
    "    output_dir : str\n",
    "        Directory where the file will be saved.\n",
    "    \"\"\"\n",
    "    try:\n",
    "        os.makedirs(output_dir, exist_ok=True)\n",
    "        filepath = os.path.join(output_dir, \"df.csv\")\n",
    "\n",
    "        # flatten MultiIndex columns (if any)\n",
    "        if isinstance(data.columns, pd.MultiIndex):\n",
    "            data.columns = data.columns.droplevel(0)\n",
    "\n",
    "        data.to_csv(filepath, index=True)\n",
    "        print(f\"💾 Data successfully saved at: {filepath}\")\n",
    "        return filepath\n",
    "\n",
    "    except Exception as e:\n",
    "        print(f\"❌ Failed to export data: {e}\")\n",
    "        return None\n",
    "\n",
    "\n",
    "# usage example:\n",
    "export_data(df_hist)\n",
    "\n"
   ]
  },
  {
   "cell_type": "code",
   "execution_count": null,
   "id": "399a55a5",
   "metadata": {},
   "outputs": [],
   "source": []
  }
 ],
 "metadata": {
  "kernelspec": {
   "display_name": ".venv",
   "language": "python",
   "name": "python3"
  },
  "language_info": {
   "codemirror_mode": {
    "name": "ipython",
    "version": 3
   },
   "file_extension": ".py",
   "mimetype": "text/x-python",
   "name": "python",
   "nbconvert_exporter": "python",
   "pygments_lexer": "ipython3",
   "version": "3.10.11"
  }
 },
 "nbformat": 4,
 "nbformat_minor": 5
}
