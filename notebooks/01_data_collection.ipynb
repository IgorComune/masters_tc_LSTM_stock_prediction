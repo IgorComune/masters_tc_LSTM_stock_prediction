{
 "cells": [
  {
   "cell_type": "code",
   "execution_count": 21,
   "id": "197bb9b5",
   "metadata": {},
   "outputs": [],
   "source": [
    "# Cell 1: imports and setup\n",
    "import os\n",
    "from typing import Optional\n",
    "import pandas as pd\n",
    "import yfinance as yf\n",
    "import matplotlib.pyplot as plt\n",
    "\n",
    "# display and plotting setup\n",
    "pd.set_option(\"display.max_columns\", 50)\n",
    "pd.set_option(\"display.width\", 160)\n",
    "plt.rcParams[\"figure.figsize\"] = (10, 5)\n",
    "\n",
    "# default paths (adjust if needed)\n",
    "COMPANIES_PATH = r\"../data/raw/acoes-listadas-b3.csv\"\n",
    "OUTPUT_DIR = r\"../data/processed\""
   ]
  },
  {
   "cell_type": "code",
   "execution_count": 22,
   "id": "5860b32f",
   "metadata": {},
   "outputs": [],
   "source": [
    "# Cell 2: load B3-listed companies (CSV validation included)\n",
    "def load_listed_companies(path: str = COMPANIES_PATH) -> Optional[pd.DataFrame]:\n",
    "    try:\n",
    "        df = pd.read_csv(path)\n",
    "    except FileNotFoundError:\n",
    "        print(f\"❌ File not found: {path}\")\n",
    "        return None\n",
    "    except Exception as e:\n",
    "        print(f\"❌ Error while reading CSV: {e}\")\n",
    "        return None\n",
    "\n",
    "    # expected column: 'Ticker'\n",
    "    if \"Ticker\" not in df.columns:\n",
    "        possible = [c for c in df.columns if \"tick\" in c.lower() or \"code\" in c.lower()]\n",
    "        if possible:\n",
    "            print(\"⚠️ Missing 'Ticker' column — maybe you meant:\", possible)\n",
    "        else:\n",
    "            print(\"⚠️ 'Ticker' column not found in CSV.\")\n",
    "        return None\n",
    "\n",
    "    print(f\"✅ Loaded {len(df)} tickers.\")\n",
    "    return df"
   ]
  },
  {
   "cell_type": "code",
   "execution_count": 23,
   "id": "7fc3dcf9",
   "metadata": {},
   "outputs": [
    {
     "name": "stdout",
     "output_type": "stream",
     "text": [
      "✅ Loaded 406 tickers.\n"
     ]
    },
    {
     "data": {
      "application/vnd.microsoft.datawrangler.viewer.v0+json": {
       "columns": [
        {
         "name": "index",
         "rawType": "int64",
         "type": "integer"
        },
        {
         "name": "Ticker",
         "rawType": "object",
         "type": "string"
        },
        {
         "name": "Nome",
         "rawType": "object",
         "type": "string"
        },
        {
         "name": "Negócios",
         "rawType": "object",
         "type": "string"
        },
        {
         "name": "Última (R$)",
         "rawType": "object",
         "type": "string"
        },
        {
         "name": "Variação",
         "rawType": "object",
         "type": "string"
        }
       ],
       "ref": "a4d49201-4264-4b9a-a1c5-9a526c389d42",
       "rows": [
        [
         "0",
         "PDGR3",
         "PDG Realty",
         "34.615.600",
         "0,07",
         "-46,15%"
        ],
        [
         "1",
         "MGLU3",
         "Magazine Luiza",
         "32.721.500",
         "9,15",
         "-0,11%"
        ],
        [
         "2",
         "AMBP3",
         "Ambipar",
         "27.231.800",
         "1,40",
         "-49,09%"
        ],
        [
         "3",
         "ASAI3",
         "Assaí",
         "24.871.500",
         "9,06",
         "-2,16%"
        ],
        [
         "4",
         "ITSA4",
         "Itaúsa",
         "22.795.700",
         "11,22",
         "+0,54%"
        ],
        [
         "5",
         "BBDC4",
         "Banco Bradesco",
         "22.193.300",
         "17,10",
         "+0,06%"
        ],
        [
         "6",
         "ABEV3",
         "Ambev",
         "21.785.000",
         "11,87",
         "-0,50%"
        ],
        [
         "7",
         "COGN3",
         "Cogna",
         "21.087.500",
         "3,21",
         "+1,58%"
        ],
        [
         "8",
         "PETR4",
         "Petrobras",
         "19.756.800",
         "31,00",
         "-0,26%"
        ],
        [
         "9",
         "VALE3",
         "Vale",
         "19.240.200",
         "58,59",
         "-0,19%"
        ]
       ],
       "shape": {
        "columns": 5,
        "rows": 10
       }
      },
      "text/html": [
       "<div>\n",
       "<style scoped>\n",
       "    .dataframe tbody tr th:only-of-type {\n",
       "        vertical-align: middle;\n",
       "    }\n",
       "\n",
       "    .dataframe tbody tr th {\n",
       "        vertical-align: top;\n",
       "    }\n",
       "\n",
       "    .dataframe thead th {\n",
       "        text-align: right;\n",
       "    }\n",
       "</style>\n",
       "<table border=\"1\" class=\"dataframe\">\n",
       "  <thead>\n",
       "    <tr style=\"text-align: right;\">\n",
       "      <th></th>\n",
       "      <th>Ticker</th>\n",
       "      <th>Nome</th>\n",
       "      <th>Negócios</th>\n",
       "      <th>Última (R$)</th>\n",
       "      <th>Variação</th>\n",
       "    </tr>\n",
       "  </thead>\n",
       "  <tbody>\n",
       "    <tr>\n",
       "      <th>0</th>\n",
       "      <td>PDGR3</td>\n",
       "      <td>PDG Realty</td>\n",
       "      <td>34.615.600</td>\n",
       "      <td>0,07</td>\n",
       "      <td>-46,15%</td>\n",
       "    </tr>\n",
       "    <tr>\n",
       "      <th>1</th>\n",
       "      <td>MGLU3</td>\n",
       "      <td>Magazine Luiza</td>\n",
       "      <td>32.721.500</td>\n",
       "      <td>9,15</td>\n",
       "      <td>-0,11%</td>\n",
       "    </tr>\n",
       "    <tr>\n",
       "      <th>2</th>\n",
       "      <td>AMBP3</td>\n",
       "      <td>Ambipar</td>\n",
       "      <td>27.231.800</td>\n",
       "      <td>1,40</td>\n",
       "      <td>-49,09%</td>\n",
       "    </tr>\n",
       "    <tr>\n",
       "      <th>3</th>\n",
       "      <td>ASAI3</td>\n",
       "      <td>Assaí</td>\n",
       "      <td>24.871.500</td>\n",
       "      <td>9,06</td>\n",
       "      <td>-2,16%</td>\n",
       "    </tr>\n",
       "    <tr>\n",
       "      <th>4</th>\n",
       "      <td>ITSA4</td>\n",
       "      <td>Itaúsa</td>\n",
       "      <td>22.795.700</td>\n",
       "      <td>11,22</td>\n",
       "      <td>+0,54%</td>\n",
       "    </tr>\n",
       "    <tr>\n",
       "      <th>5</th>\n",
       "      <td>BBDC4</td>\n",
       "      <td>Banco Bradesco</td>\n",
       "      <td>22.193.300</td>\n",
       "      <td>17,10</td>\n",
       "      <td>+0,06%</td>\n",
       "    </tr>\n",
       "    <tr>\n",
       "      <th>6</th>\n",
       "      <td>ABEV3</td>\n",
       "      <td>Ambev</td>\n",
       "      <td>21.785.000</td>\n",
       "      <td>11,87</td>\n",
       "      <td>-0,50%</td>\n",
       "    </tr>\n",
       "    <tr>\n",
       "      <th>7</th>\n",
       "      <td>COGN3</td>\n",
       "      <td>Cogna</td>\n",
       "      <td>21.087.500</td>\n",
       "      <td>3,21</td>\n",
       "      <td>+1,58%</td>\n",
       "    </tr>\n",
       "    <tr>\n",
       "      <th>8</th>\n",
       "      <td>PETR4</td>\n",
       "      <td>Petrobras</td>\n",
       "      <td>19.756.800</td>\n",
       "      <td>31,00</td>\n",
       "      <td>-0,26%</td>\n",
       "    </tr>\n",
       "    <tr>\n",
       "      <th>9</th>\n",
       "      <td>VALE3</td>\n",
       "      <td>Vale</td>\n",
       "      <td>19.240.200</td>\n",
       "      <td>58,59</td>\n",
       "      <td>-0,19%</td>\n",
       "    </tr>\n",
       "  </tbody>\n",
       "</table>\n",
       "</div>"
      ],
      "text/plain": [
       "  Ticker            Nome    Negócios Última (R$) Variação\n",
       "0  PDGR3      PDG Realty  34.615.600        0,07  -46,15%\n",
       "1  MGLU3  Magazine Luiza  32.721.500        9,15   -0,11%\n",
       "2  AMBP3         Ambipar  27.231.800        1,40  -49,09%\n",
       "3  ASAI3           Assaí  24.871.500        9,06   -2,16%\n",
       "4  ITSA4          Itaúsa  22.795.700       11,22   +0,54%\n",
       "5  BBDC4  Banco Bradesco  22.193.300       17,10   +0,06%\n",
       "6  ABEV3           Ambev  21.785.000       11,87   -0,50%\n",
       "7  COGN3           Cogna  21.087.500        3,21   +1,58%\n",
       "8  PETR4       Petrobras  19.756.800       31,00   -0,26%\n",
       "9  VALE3            Vale  19.240.200       58,59   -0,19%"
      ]
     },
     "metadata": {},
     "output_type": "display_data"
    },
    {
     "name": "stdout",
     "output_type": "stream",
     "text": [
      "\n",
      "Columns: ['Ticker', 'Nome', 'Negócios', 'Última (R$)', 'Variação']\n"
     ]
    }
   ],
   "source": [
    "# Cell 3: load and preview the first few rows\n",
    "df_listed = load_listed_companies()\n",
    "if df_listed is not None:\n",
    "    display(df_listed.head(10))\n",
    "    print(\"\\nColumns:\", df_listed.columns.tolist())"
   ]
  },
  {
   "cell_type": "code",
   "execution_count": 24,
   "id": "79bc0ed1",
   "metadata": {},
   "outputs": [
    {
     "name": "stdout",
     "output_type": "stream",
     "text": [
      "Example tickers (first 20):\n",
      "PDGR3, MGLU3, AMBP3, ASAI3, ITSA4, BBDC4, ABEV3, COGN3, PETR4, VALE3, ITUB4, RAIZ4, BBAS3, CSAN3, MOTV3, B3SA3, MBRF3, RENT3, GGBR4, PCAR3\n"
     ]
    }
   ],
   "source": [
    "# Cell 4: select a ticker (user input or auto-pick)\n",
    "def choose_ticker(df: pd.DataFrame, interactive: bool = True) -> Optional[str]:\n",
    "    tickers = df[\"Ticker\"].astype(str).str.upper().unique()\n",
    "\n",
    "    # auto mode: pick the first one\n",
    "    if not interactive:\n",
    "        print(f\"Non-interactive mode: using {tickers[0]}\")\n",
    "        return tickers[0] + \".SA\"\n",
    "\n",
    "    # interactive mode\n",
    "    print(\"Example tickers (first 20):\")\n",
    "    print(\", \".join(tickers[:20]))\n",
    "    ticker = input(\"Enter ticker (no .SA) or index (e.g. 0): \").strip().upper()\n",
    "\n",
    "    if ticker.isdigit():\n",
    "        idx = int(ticker)\n",
    "        if 0 <= idx < len(tickers):\n",
    "            return tickers[idx] + \".SA\"\n",
    "        else:\n",
    "            print(\"Index out of range.\")\n",
    "            return None\n",
    "\n",
    "    if ticker in tickers:\n",
    "        return ticker + \".SA\"\n",
    "\n",
    "    print(\"Ticker not found.\")\n",
    "    return None\n",
    "\n",
    "# usage:\n",
    "ticker = choose_ticker(df_listed, interactive=True)\n"
   ]
  },
  {
   "cell_type": "code",
   "execution_count": 25,
   "id": "9cee18ac",
   "metadata": {},
   "outputs": [
    {
     "name": "stdout",
     "output_type": "stream",
     "text": [
      "⬇️ Baixando PETR4.SA ...\n"
     ]
    },
    {
     "name": "stderr",
     "output_type": "stream",
     "text": [
      "[*********************100%***********************]  1 of 1 completed"
     ]
    },
    {
     "name": "stdout",
     "output_type": "stream",
     "text": [
      "✅ 6473 registros de 2000-01-03 a 2025-10-10\n"
     ]
    },
    {
     "name": "stderr",
     "output_type": "stream",
     "text": [
      "\n"
     ]
    }
   ],
   "source": [
    "# Cell 5: baixar histórico completo para 1 ticker\n",
    "def download_full_history(ticker: str, timeout: int = 20) -> Optional[pd.DataFrame]:\n",
    "    try:\n",
    "        print(f\"⬇️ Baixando {ticker} ...\")\n",
    "        data = yf.download(\n",
    "            tickers=ticker,\n",
    "            period=\"max\",\n",
    "            interval=\"1d\",\n",
    "            auto_adjust=True,\n",
    "            progress=True,\n",
    "            threads=True,\n",
    "            group_by=\"column\",\n",
    "            timeout=timeout\n",
    "        )\n",
    "        if data.empty:\n",
    "            print(\"⚠️ Nenhum dado retornado.\")\n",
    "            return None\n",
    "        # se houver multiindex de colunas (quando várias ações), normaliza:\n",
    "        if isinstance(data.columns, pd.MultiIndex):\n",
    "            data.columns = data.columns.droplevel(0)\n",
    "        data.index = pd.to_datetime(data.index)\n",
    "        print(f\"✅ {len(data)} registros de {data.index.min().date()} a {data.index.max().date()}\")\n",
    "        return data\n",
    "    except Exception as e:\n",
    "        print(f\"❌ Erro no download: {type(e).__name__} - {e}\")\n",
    "        return None\n",
    "\n",
    "# exemplo de uso:\n",
    "df_hist = download_full_history(\"PETR4.SA\")\n"
   ]
  },
  {
   "cell_type": "code",
   "execution_count": 28,
   "id": "4e38d1b5",
   "metadata": {},
   "outputs": [
    {
     "data": {
      "application/vnd.microsoft.datawrangler.viewer.v0+json": {
       "columns": [
        {
         "name": "Date",
         "rawType": "datetime64[ns]",
         "type": "datetime"
        },
        {
         "name": "PETR4.SA",
         "rawType": "float64",
         "type": "float"
        },
        {
         "name": "PETR4.SA",
         "rawType": "float64",
         "type": "float"
        },
        {
         "name": "PETR4.SA",
         "rawType": "float64",
         "type": "float"
        },
        {
         "name": "PETR4.SA",
         "rawType": "float64",
         "type": "float"
        },
        {
         "name": "PETR4.SA",
         "rawType": "int64",
         "type": "integer"
        }
       ],
       "ref": "0c70d526-cc69-40a9-b7d5-16320ca6aaf8",
       "rows": [
        [
         "2000-01-03 00:00:00",
         "1.1563940048217773",
         "1.1563940048217773",
         "1.1563940048217773",
         "1.1563940048217773",
         "35389440000"
        ],
        [
         "2000-01-04 00:00:00",
         "1.0924235582351685",
         "1.0924235582351685",
         "1.0924235582351685",
         "1.0924235582351685",
         "28861440000"
        ],
        [
         "2000-01-05 00:00:00",
         "1.081400990486145",
         "1.081400990486145",
         "1.081400990486145",
         "1.081400990486145",
         "43033600000"
        ],
        [
         "2000-01-06 00:00:00",
         "1.077661156654358",
         "1.077661156654358",
         "1.077661156654358",
         "1.077661156654358",
         "34055680000"
        ],
        [
         "2000-01-07 00:00:00",
         "1.082581639289856",
         "1.082581639289856",
         "1.082581639289856",
         "1.082581639289856",
         "20912640000"
        ]
       ],
       "shape": {
        "columns": 5,
        "rows": 5
       }
      },
      "text/html": [
       "<div>\n",
       "<style scoped>\n",
       "    .dataframe tbody tr th:only-of-type {\n",
       "        vertical-align: middle;\n",
       "    }\n",
       "\n",
       "    .dataframe tbody tr th {\n",
       "        vertical-align: top;\n",
       "    }\n",
       "\n",
       "    .dataframe thead th {\n",
       "        text-align: right;\n",
       "    }\n",
       "</style>\n",
       "<table border=\"1\" class=\"dataframe\">\n",
       "  <thead>\n",
       "    <tr style=\"text-align: right;\">\n",
       "      <th>Ticker</th>\n",
       "      <th>PETR4.SA</th>\n",
       "      <th>PETR4.SA</th>\n",
       "      <th>PETR4.SA</th>\n",
       "      <th>PETR4.SA</th>\n",
       "      <th>PETR4.SA</th>\n",
       "    </tr>\n",
       "    <tr>\n",
       "      <th>Date</th>\n",
       "      <th></th>\n",
       "      <th></th>\n",
       "      <th></th>\n",
       "      <th></th>\n",
       "      <th></th>\n",
       "    </tr>\n",
       "  </thead>\n",
       "  <tbody>\n",
       "    <tr>\n",
       "      <th>2000-01-03</th>\n",
       "      <td>1.156394</td>\n",
       "      <td>1.156394</td>\n",
       "      <td>1.156394</td>\n",
       "      <td>1.156394</td>\n",
       "      <td>35389440000</td>\n",
       "    </tr>\n",
       "    <tr>\n",
       "      <th>2000-01-04</th>\n",
       "      <td>1.092424</td>\n",
       "      <td>1.092424</td>\n",
       "      <td>1.092424</td>\n",
       "      <td>1.092424</td>\n",
       "      <td>28861440000</td>\n",
       "    </tr>\n",
       "    <tr>\n",
       "      <th>2000-01-05</th>\n",
       "      <td>1.081401</td>\n",
       "      <td>1.081401</td>\n",
       "      <td>1.081401</td>\n",
       "      <td>1.081401</td>\n",
       "      <td>43033600000</td>\n",
       "    </tr>\n",
       "    <tr>\n",
       "      <th>2000-01-06</th>\n",
       "      <td>1.077661</td>\n",
       "      <td>1.077661</td>\n",
       "      <td>1.077661</td>\n",
       "      <td>1.077661</td>\n",
       "      <td>34055680000</td>\n",
       "    </tr>\n",
       "    <tr>\n",
       "      <th>2000-01-07</th>\n",
       "      <td>1.082582</td>\n",
       "      <td>1.082582</td>\n",
       "      <td>1.082582</td>\n",
       "      <td>1.082582</td>\n",
       "      <td>20912640000</td>\n",
       "    </tr>\n",
       "  </tbody>\n",
       "</table>\n",
       "</div>"
      ],
      "text/plain": [
       "Ticker      PETR4.SA  PETR4.SA  PETR4.SA  PETR4.SA     PETR4.SA\n",
       "Date                                                           \n",
       "2000-01-03  1.156394  1.156394  1.156394  1.156394  35389440000\n",
       "2000-01-04  1.092424  1.092424  1.092424  1.092424  28861440000\n",
       "2000-01-05  1.081401  1.081401  1.081401  1.081401  43033600000\n",
       "2000-01-06  1.077661  1.077661  1.077661  1.077661  34055680000\n",
       "2000-01-07  1.082582  1.082582  1.082582  1.082582  20912640000"
      ]
     },
     "execution_count": 28,
     "metadata": {},
     "output_type": "execute_result"
    }
   ],
   "source": [
    "df_hist.head()"
   ]
  },
  {
   "cell_type": "code",
   "execution_count": null,
   "id": "39f7d3a3",
   "metadata": {},
   "outputs": [
    {
     "data": {
      "application/vnd.microsoft.datawrangler.viewer.v0+json": {
       "columns": [
        {
         "name": "Date",
         "rawType": "datetime64[ns]",
         "type": "datetime"
        },
        {
         "name": "PETR4.SA",
         "rawType": "float64",
         "type": "float"
        },
        {
         "name": "PETR4.SA",
         "rawType": "float64",
         "type": "float"
        },
        {
         "name": "PETR4.SA",
         "rawType": "float64",
         "type": "float"
        },
        {
         "name": "PETR4.SA",
         "rawType": "float64",
         "type": "float"
        },
        {
         "name": "PETR4.SA",
         "rawType": "int64",
         "type": "integer"
        }
       ],
       "ref": "87a875a3-82f5-4a77-85a4-e112b426fab4",
       "rows": [
        [
         "2000-01-03 00:00:00",
         "1.1563940048217773",
         "1.1563940048217773",
         "1.1563940048217773",
         "1.1563940048217773",
         "35389440000"
        ],
        [
         "2000-01-04 00:00:00",
         "1.0924235582351685",
         "1.0924235582351685",
         "1.0924235582351685",
         "1.0924235582351685",
         "28861440000"
        ],
        [
         "2000-01-05 00:00:00",
         "1.081400990486145",
         "1.081400990486145",
         "1.081400990486145",
         "1.081400990486145",
         "43033600000"
        ],
        [
         "2000-01-06 00:00:00",
         "1.077661156654358",
         "1.077661156654358",
         "1.077661156654358",
         "1.077661156654358",
         "34055680000"
        ],
        [
         "2000-01-07 00:00:00",
         "1.082581639289856",
         "1.082581639289856",
         "1.082581639289856",
         "1.082581639289856",
         "20912640000"
        ],
        [
         "2000-01-10 00:00:00",
         "1.1048238277435303",
         "1.1048238277435303",
         "1.1048238277435303",
         "1.1048238277435303",
         "19563520000"
        ],
        [
         "2000-01-11 00:00:00",
         "1.077661156654358",
         "1.077661156654358",
         "1.077661156654358",
         "1.077661156654358",
         "23987200000"
        ],
        [
         "2000-01-12 00:00:00",
         "1.0792357921600342",
         "1.0792357921600342",
         "1.0792357921600342",
         "1.0792357921600342",
         "23301120000"
        ]
       ],
       "shape": {
        "columns": 5,
        "rows": 8
       }
      },
      "text/html": [
       "<div>\n",
       "<style scoped>\n",
       "    .dataframe tbody tr th:only-of-type {\n",
       "        vertical-align: middle;\n",
       "    }\n",
       "\n",
       "    .dataframe tbody tr th {\n",
       "        vertical-align: top;\n",
       "    }\n",
       "\n",
       "    .dataframe thead th {\n",
       "        text-align: right;\n",
       "    }\n",
       "</style>\n",
       "<table border=\"1\" class=\"dataframe\">\n",
       "  <thead>\n",
       "    <tr style=\"text-align: right;\">\n",
       "      <th>Ticker</th>\n",
       "      <th>PETR4.SA</th>\n",
       "      <th>PETR4.SA</th>\n",
       "      <th>PETR4.SA</th>\n",
       "      <th>PETR4.SA</th>\n",
       "      <th>PETR4.SA</th>\n",
       "    </tr>\n",
       "    <tr>\n",
       "      <th>Date</th>\n",
       "      <th></th>\n",
       "      <th></th>\n",
       "      <th></th>\n",
       "      <th></th>\n",
       "      <th></th>\n",
       "    </tr>\n",
       "  </thead>\n",
       "  <tbody>\n",
       "    <tr>\n",
       "      <th>2000-01-03</th>\n",
       "      <td>1.156394</td>\n",
       "      <td>1.156394</td>\n",
       "      <td>1.156394</td>\n",
       "      <td>1.156394</td>\n",
       "      <td>35389440000</td>\n",
       "    </tr>\n",
       "    <tr>\n",
       "      <th>2000-01-04</th>\n",
       "      <td>1.092424</td>\n",
       "      <td>1.092424</td>\n",
       "      <td>1.092424</td>\n",
       "      <td>1.092424</td>\n",
       "      <td>28861440000</td>\n",
       "    </tr>\n",
       "    <tr>\n",
       "      <th>2000-01-05</th>\n",
       "      <td>1.081401</td>\n",
       "      <td>1.081401</td>\n",
       "      <td>1.081401</td>\n",
       "      <td>1.081401</td>\n",
       "      <td>43033600000</td>\n",
       "    </tr>\n",
       "    <tr>\n",
       "      <th>2000-01-06</th>\n",
       "      <td>1.077661</td>\n",
       "      <td>1.077661</td>\n",
       "      <td>1.077661</td>\n",
       "      <td>1.077661</td>\n",
       "      <td>34055680000</td>\n",
       "    </tr>\n",
       "    <tr>\n",
       "      <th>2000-01-07</th>\n",
       "      <td>1.082582</td>\n",
       "      <td>1.082582</td>\n",
       "      <td>1.082582</td>\n",
       "      <td>1.082582</td>\n",
       "      <td>20912640000</td>\n",
       "    </tr>\n",
       "    <tr>\n",
       "      <th>2000-01-10</th>\n",
       "      <td>1.104824</td>\n",
       "      <td>1.104824</td>\n",
       "      <td>1.104824</td>\n",
       "      <td>1.104824</td>\n",
       "      <td>19563520000</td>\n",
       "    </tr>\n",
       "    <tr>\n",
       "      <th>2000-01-11</th>\n",
       "      <td>1.077661</td>\n",
       "      <td>1.077661</td>\n",
       "      <td>1.077661</td>\n",
       "      <td>1.077661</td>\n",
       "      <td>23987200000</td>\n",
       "    </tr>\n",
       "    <tr>\n",
       "      <th>2000-01-12</th>\n",
       "      <td>1.079236</td>\n",
       "      <td>1.079236</td>\n",
       "      <td>1.079236</td>\n",
       "      <td>1.079236</td>\n",
       "      <td>23301120000</td>\n",
       "    </tr>\n",
       "  </tbody>\n",
       "</table>\n",
       "</div>"
      ],
      "text/plain": [
       "Ticker      PETR4.SA  PETR4.SA  PETR4.SA  PETR4.SA     PETR4.SA\n",
       "Date                                                           \n",
       "2000-01-03  1.156394  1.156394  1.156394  1.156394  35389440000\n",
       "2000-01-04  1.092424  1.092424  1.092424  1.092424  28861440000\n",
       "2000-01-05  1.081401  1.081401  1.081401  1.081401  43033600000\n",
       "2000-01-06  1.077661  1.077661  1.077661  1.077661  34055680000\n",
       "2000-01-07  1.082582  1.082582  1.082582  1.082582  20912640000\n",
       "2000-01-10  1.104824  1.104824  1.104824  1.104824  19563520000\n",
       "2000-01-11  1.077661  1.077661  1.077661  1.077661  23987200000\n",
       "2000-01-12  1.079236  1.079236  1.079236  1.079236  23301120000"
      ]
     },
     "metadata": {},
     "output_type": "display_data"
    },
    {
     "name": "stdout",
     "output_type": "stream",
     "text": [
      "No 'Close' column found — nothing to plot.\n"
     ]
    }
   ],
   "source": [
    "# Cell 6: preview data and plot Close price\n",
    "def show_history_preview(data: pd.DataFrame, n: int = 5, title: Optional[str] = None):\n",
    "    display(data.head(n))\n",
    "    if \"Close\" in data.columns:\n",
    "        data[\"Close\"].plot(title=(title or \"Close Price\"))\n",
    "        plt.xlabel(\"Date\")\n",
    "        plt.ylabel(\"Close (adjusted)\")\n",
    "        plt.show()\n",
    "    else:\n",
    "        print(\"No 'Close' column found — nothing to plot.\")\n",
    "\n",
    "# usage:\n",
    "show_history_preview(df_hist, title=\"PETR4.SA\")\n"
   ]
  },
  {
   "cell_type": "code",
   "execution_count": 27,
   "id": "428ae266",
   "metadata": {},
   "outputs": [
    {
     "name": "stdout",
     "output_type": "stream",
     "text": [
      "💾 Data successfully saved at: ../data/processed\\df.csv\n"
     ]
    },
    {
     "data": {
      "text/plain": [
       "'../data/processed\\\\df.csv'"
      ]
     },
     "execution_count": 27,
     "metadata": {},
     "output_type": "execute_result"
    }
   ],
   "source": [
    "# Cell 7: export to CSV with fixed name \"df.csv\"\n",
    "def export_data(data: pd.DataFrame, output_dir: str = OUTPUT_DIR):\n",
    "    \"\"\"\n",
    "    Export the DataFrame to a CSV file with a fixed name 'df.csv'.\n",
    "    Overwrites existing files without asking (because, why not?).\n",
    "\n",
    "    Parameters\n",
    "    ----------\n",
    "    data : pd.DataFrame\n",
    "        The data to export.\n",
    "    output_dir : str\n",
    "        Directory where the file will be saved.\n",
    "    \"\"\"\n",
    "    try:\n",
    "        os.makedirs(output_dir, exist_ok=True)\n",
    "        filepath = os.path.join(output_dir, \"df.csv\")\n",
    "\n",
    "        # flatten MultiIndex columns (if any)\n",
    "        if isinstance(data.columns, pd.MultiIndex):\n",
    "            data.columns = data.columns.droplevel(0)\n",
    "\n",
    "        data.to_csv(filepath, index=True)\n",
    "        print(f\"💾 Data successfully saved at: {filepath}\")\n",
    "        return filepath\n",
    "\n",
    "    except Exception as e:\n",
    "        print(f\"❌ Failed to export data: {e}\")\n",
    "        return None\n",
    "\n",
    "\n",
    "# usage example:\n",
    "export_data(df_hist)\n",
    "\n"
   ]
  },
  {
   "cell_type": "code",
   "execution_count": null,
   "id": "399a55a5",
   "metadata": {},
   "outputs": [],
   "source": []
  }
 ],
 "metadata": {
  "kernelspec": {
   "display_name": ".venv",
   "language": "python",
   "name": "python3"
  },
  "language_info": {
   "codemirror_mode": {
    "name": "ipython",
    "version": 3
   },
   "file_extension": ".py",
   "mimetype": "text/x-python",
   "name": "python",
   "nbconvert_exporter": "python",
   "pygments_lexer": "ipython3",
   "version": "3.10.11"
  }
 },
 "nbformat": 4,
 "nbformat_minor": 5
}
